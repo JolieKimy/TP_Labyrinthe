{
 "cells": [
  {
   "cell_type": "code",
   "execution_count": 1,
   "metadata": {},
   "outputs": [],
   "source": [
    "import numpy as np\n",
    "import random\n",
    "import matplotlib.pyplot as plt"
   ]
  },
  {
   "cell_type": "markdown",
   "metadata": {},
   "source": [
    "# IA - Labyrinth"
   ]
  },
  {
   "cell_type": "code",
   "execution_count": 2,
   "metadata": {},
   "outputs": [],
   "source": [
    "def generate_labyrinth(width, height, wall_ratio=0.3):\n",
    "    \"\"\" Randomly generates the labyrinth matrix, the values are:\n",
    "    0 if the cell is free\n",
    "    1 if there is a wall\n",
    "    :param width int: width of the matrix\n",
    "    :param height int: height of the matrix\n",
    "    :wall_ratio float: chance for a cell to be a wall\n",
    "    :return: tuple composed of:\n",
    "    <matrix>: numpy 2d array\n",
    "    <start_cell>: tuple of i, j indices for the start cell\n",
    "    <end_cell>: tuple of i, j indices for the end cell\n",
    "    \"\"\"\n",
    "    grid = np.random.rand(width, height)\n",
    "    grid[grid >= 1 - wall_ratio] = 1\n",
    "    grid[grid < 1 - wall_ratio] = 0\n",
    "    free_cell_top = [i for i in range(0, width) if grid[0][i] != 1]\n",
    "    start_idx = random.choice(free_cell_top)\n",
    "    start_cell = (0, start_idx)\n",
    "    free_cell_bottom = [i for i in range(0, width) if grid[-1][i] != 1]\n",
    "    end_idx = random.choice(free_cell_bottom)\n",
    "    end_cell = (height - 1, end_idx)\n",
    "    return grid, start_cell, end_cell"
   ]
  },
  {
   "cell_type": "code",
   "execution_count": 3,
   "metadata": {},
   "outputs": [],
   "source": [
    "def display_labyrinth(grid, start_cell, end_cell, solution=None):\n",
    "    \"\"\" Display the labyrinth matrix and possibly the solution with matplotlib.\n",
    "    Free cell will be in light gray.\n",
    "    Wall cells will be in dark gray.\n",
    "    Start and end cells will be in dark blue.\n",
    "    Path cells (start, end excluded) will be in light blue.\n",
    "    :param grid np.array: labyrinth matrix\n",
    "    :param start_cell: tuple of i, j indices for the start cell\n",
    "    :param end_cell: tuple of i, j indices for the end cell\n",
    "    :param solution: list of successive tuple i, j indices who forms the path\n",
    "    \"\"\"\n",
    "    grid = np.array(grid, copy=True)\n",
    "    FREE_CELL = 19\n",
    "    WALL_CELL = 16\n",
    "    START = 0\n",
    "    END = 0\n",
    "    PATH = 2\n",
    "    grid[grid == 0] = FREE_CELL\n",
    "    grid[grid == 1] = WALL_CELL\n",
    "    grid[start_cell] = START\n",
    "    grid[end_cell] = END\n",
    "    if solution:\n",
    "        solution = solution[1:-1]\n",
    "        for cell in solution:\n",
    "            grid[cell] = PATH\n",
    "    else:\n",
    "        print(\"No solution has been found\")\n",
    "    plt.matshow(grid, cmap=\"tab20c\")"
   ]
  },
  {
   "cell_type": "code",
   "execution_count": 4,
   "metadata": {},
   "outputs": [],
   "source": [
    "grid, start_cell, end_cell = generate_labyrinth(10, 10)"
   ]
  },
  {
   "cell_type": "code",
   "execution_count": 5,
   "metadata": {
    "slideshow": {
     "slide_type": "slide"
    }
   },
   "outputs": [
    {
     "name": "stdout",
     "output_type": "stream",
     "text": [
      "No solution has been found\n"
     ]
    },
    {
     "data": {
      "image/png": "[encoded data removed]",
      "text/plain": [
       "<Figure size 288x288 with 1 Axes>"
      ]
     },
     "metadata": {
      "needs_background": "light"
     },
     "output_type": "display_data"
    }
   ],
   "source": [
    "display_labyrinth(grid, start_cell, end_cell)"
   ]
  },
  {
   "cell_type": "code",
   "execution_count": 8,
   "metadata": {},
   "outputs": [
    {
     "name": "stderr",
     "output_type": "stream",
     "text": [
      "c:\\users\\kim.biloni\\appdata\\local\\programs\\python\\python36\\lib\\site-packages\\deap\\tools\\_hypervolume\\pyhv.py:33: ImportWarning: Falling back to the python version of hypervolume module. Expect this to be very slow.\n",
      "  \"module. Expect this to be very slow.\", ImportWarning)\n"
     ]
    }
   ],
   "source": [
    "from deap import base\n",
    "from deap import creator\n",
    "from deap import tools\n",
    "from deap import algorithms"
   ]
  },
  {
   "cell_type": "code",
   "execution_count": 9,
   "metadata": {},
   "outputs": [],
   "source": [
    "toolbox = base.Toolbox()"
   ]
  },
  {
   "cell_type": "markdown",
   "metadata": {},
   "source": [
    "# Conception\n",
    "\n",
    "Cette section visent à analyser le sujet afin de conceptualiser un code cohérent à la résolution du problème.\n",
    "\n",
    "## Opérations\n",
    "\n",
    "Il faut donc définir les opérations possibles :\n",
    "\n",
    "- right\n",
    "- up\n",
    "- left\n",
    "- down\n",
    "\n",
    "Nous pouvons identifier les opérations comme les gênes de notre individu.\n",
    "\n",
    "## Individu\n",
    "\n",
    "Ce dernier sera donc une liste d'opérations. Sa taille ira de la hauteur du labyrith à la hauteur * la largeur du labyrinth.\n",
    "\n",
    "## Fonction de fitness\n",
    "\n",
    "La fonction de fitness devra donc donner une valeur au chemin. Un bon chemin aura une valeur faible et un mauvais chemin aura une valeur évlevé.\n",
    "\n",
    "Si on reprend les connaissances que nous avons sur les heuristiques du TP A*, un bon chemin serait donc un chemin direct entre le point de départ et le point d'arriver. Appliqué à notre labyrinthe et à nos diverses opérations, un bon chemin sera donc composé que de la direction down présente h fois dans la liste pour une liste de longueur h.\n",
    "\n",
    "### Directions horizontales\n",
    "\n",
    "Les directions horizontales doivent avoir un coût dépendamment de la différence du point de départ et d'arrivé sur l'axe x. La fonction pour cette axe pourra ressembler à ça :\n",
    "\n",
    "```python\n",
    "def x_axis_score(individu, start, end):\n",
    "    displacement = 0\n",
    "    for c in individu:\n",
    "        if c is right:\n",
    "            displacement+=1\n",
    "        elif c is left:\n",
    "            displacement-=1\n",
    "    return end - start + ou - displacement....\n",
    "```\n",
    "\n",
    "En faisant `end - start`, le signe du resultat nous indique la direction avec positif signifiant droite et négatif signifiant gauche.  En additionnant la différence de déplacement, on peut savoir si le chemin est allé dans la bonne direction ou pas. \n",
    "\n",
    "Avec cette fonction de fitness, nous pouvons identifier les cas suivants:\n",
    "\n",
    "- la différence entre start_x et end_x vaut 0\n",
    "    - les déplacements sont uniformes: la valeur de displacement sera proche de 0 et donc la fonction retournera 0\n",
    "    - les déplacements tirent sur la gauche: la valeur de displacement sera négative et donc la fonction retournera une valeur ......\n",
    "    - les déplacments tirent sur la droite: la valeur de displacement sera positive et donc la fonction retournera une valeur ......\n",
    "- la différence entre start_x et end_x est positive (il faut se déplacer à droite)\n",
    "    - les déplacements sont uniformes: displacment ~= 0 -> la fonction retourne à nouveau un résultat positif (inidique qu'il n'y a que pas d'effet.\n",
    "    - les déplacements tirent sur la gauche: displacement < 0 -> fct \n",
    "    "
   ]
  }
 ],
 "metadata": {
  "kernelspec": {
   "display_name": "Python 3",
   "language": "python",
   "name": "python3"
  },
  "language_info": {
   "codemirror_mode": {
    "name": "ipython",
    "version": 3
   },
   "file_extension": ".py",
   "mimetype": "text/x-python",
   "name": "python",
   "nbconvert_exporter": "python",
   "pygments_lexer": "ipython3",
   "version": "3.6.6"
  }
 },
 "nbformat": 4,
 "nbformat_minor": 2
}
